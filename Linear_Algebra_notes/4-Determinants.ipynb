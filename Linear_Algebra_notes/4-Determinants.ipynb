{
 "cells": [
  {
   "cell_type": "markdown",
   "metadata": {},
   "source": [
    "### Four main uses of determinants\n",
    "\n",
    "1. Test for **invertibility**. If the determinant of A is zero, then A is singular. If detA $\\neq$ 0, then A is invertible (and $A^{−1}$ involves 1/detA).\n",
    "2. The determinant of A equals the **volume of a box** in n-dimensional space. The edges of the box come from the rows of A. The columns of A would give an entirely different box with the same volume.\n",
    "3. The determinant gives a formula for each pivot. Theoretically, we could predict when a pivot entry will be zero, requiring a row exchange. From the formula **determinant = ±(product of the pivots)**, it follows that regardless of the order of elimination, the product of the pivots remains the same apart from sign.\n",
    "4. The determinant measures the dependence of $A^{−1}b$ on each element of b. If one parameter is changed in an experiment, or one observation is corrected, the “influence coefficient” in $A^{−1}$ is a ratio of determinants.\n",
    "\n",
    "The determinant can be (and will be) defined by its **three most basic properties**:\n",
    "\n",
    "1. detI = 1;\n",
    "2. the sign is reversed by a row exchange; \n",
    "3. the determinant is linear in each row separately. "
   ]
  },
  {
   "cell_type": "markdown",
   "metadata": {
    "collapsed": true
   },
   "source": [
    "### Properties of the Determinants\n",
    "\n",
    "Only square matrix will have determinants. Every property from 4-10 is a consequence of the first three.\n",
    "\n",
    "1. det$I$ = 1.\n",
    "2. The determinant changes sign when two rows are exchanged. $$\\begin{vmatrix}c & d\\\\\n",
    "a & b\n",
    "\\end{vmatrix}=cb-ad=-\\begin{vmatrix}a & b\\\\\n",
    "c & d\n",
    "\\end{vmatrix}$$ det of permutation matrix = ±1.\n",
    "3. The determinant depends linearly on the first row. Suppose A, B, C are the same from the second row down—and row 1 of A is a linear combination of the first rows of B and C. Then the rule says: *detA is the same combination ofdetB and detC*. $$\\begin{vmatrix}a+a' & b+b'\\\\\n",
    "c & d\n",
    "\\end{vmatrix}=\\begin{vmatrix}a & b\\\\\n",
    "c & d\n",
    "\\end{vmatrix}+\\begin{vmatrix}a' & b'\\\\\n",
    "c & d\n",
    "\\end{vmatrix}$$ $$\\begin{vmatrix}ta & tb\\\\\n",
    "c & d\n",
    "\\end{vmatrix}=t\\begin{vmatrix}a & b\\\\\n",
    "c & d\n",
    "\\end{vmatrix}$$\n",
    "4. If two rows of A are equal, then detA = 0. According to property 2, change rows will reverse the sign but in this case A stays the same, thus detA must be zero.\n",
    "5. Subtracting a multiple of one row from another row leaves the same determinant.\n",
    "6. If A has a row of zeros, then detA = 0.\n",
    "7. If A is triangular then detA is the product $a_{11}a_{22}\\cdots a_{nn}$ of the diagonal entries. If the triangular A has 1s along the diagonal, then detA = 1.\n",
    "8. If A is singular, then detA = 0. If A is invertible, then detA $\\neq$ 0.\n",
    "9. The determinant of AB is the product of detA times detB. det$A^{-1}$ = 1/det$A$.\n",
    "10. The transpose of A has the same determinant as A itself: det$A^T$ = det$A$. This fact practically doubles our list of properties, because every rule that applied to the rows can now be applied to the columns: *The determinant changes sign when two columns are exchanged, two equal columns (or a column of zeros) produce a zero determinant,\n",
    "and the determinant depends linearly on each individual column. *"
   ]
  },
  {
   "cell_type": "markdown",
   "metadata": {},
   "source": [
    "### Formulas for the Determinant\n",
    "1. If A is invertible, then $PA = LDU$ and detP = ±1. The product rule gives detA = ± detLdetDdetU = ±(product of the pivots). The sign ±1 depends on whether the number of row exchanges is even or odd. The triangular factors have detL = detU = 1 and detD = $d_1\\cdots d_n$.\n",
    "\n",
    "2. Using all $n^2$ terms: $$\\det A=\\sum_{permutations} a_{1\\alpha}a_{2\\beta}a_{3\\gamma}\\cdots a_{n\\varpi}\\det P$$ It has $n!$ terms, $\\alpha \\beta \\cdots$ are permutations of 1,2,...,n. $\\det P$ = 1 or -1 for a even or odd number of row exchanges. \n",
    "\n",
    "Using cofactors. Cofactor of $a_{ij}=C_{ij}=\\pm \\det B$, B is a n-1 by n-1 matrix with row i and column j of A removed.\n",
    "\n",
    "For a 3 by 3 matrix: $$\\det A=a_{11}(a_{22}a_{33}-a_{23}a_{32})+a_{12}(a_{23}a_{31}-a_{21}a_{33})+a_{13}(a_{21}a_{32}-a_{22}a_{31})$$\n"
   ]
  },
  {
   "cell_type": "markdown",
   "metadata": {},
   "source": [
    "###Applications of Determinants\n",
    "Four major applications: *inverse of A, solving $Ax = b$, volumes of boxes, and pivots*. They are among the key computations in linear algebra (done by elimination). Determinants give formulas for the answers.\n",
    "\n",
    "1. Computation of $A^{-1}$: $$A^{-1}=\\frac{1}{\\det A}C^{T};A_{ij}^{-1}=\\frac{1}{\\det A}C_{ji}$$  \n",
    "\n",
    "2. Solve $Ax = b$. **Cramer's rule**. $x = A^{-1}b=\\frac{1}{\\det A}C^{T}b$. Then $$x_j=\\frac{\\det B_j}{\\det A},$$ where $B_j$ is A with column j replaced by b.\n",
    "\n",
    "3. The volumn of a box, whose edges are the rows of A, is detA.\n",
    "    example: area of a triangle whose three points' coordinators are (x1, y1), (x2, y2), and (x3, y3), then: $$\\text{area}=\\frac{1}{2}\\begin{vmatrix}x_{1} & y_{1} & 1\\\\\n",
    "x_{2} & y_{2} & 1\\\\\n",
    "x_{3} & y_{3} & 1\n",
    "\\end{vmatrix}$$\n",
    "\n",
    "4. A Formula for the Pivots. "
   ]
  },
  {
   "cell_type": "code",
   "execution_count": null,
   "metadata": {
    "collapsed": true
   },
   "outputs": [],
   "source": []
  }
 ],
 "metadata": {
  "kernelspec": {
   "display_name": "Python 2",
   "language": "python",
   "name": "python2"
  },
  "language_info": {
   "codemirror_mode": {
    "name": "ipython",
    "version": 2
   },
   "file_extension": ".py",
   "mimetype": "text/x-python",
   "name": "python",
   "nbconvert_exporter": "python",
   "pygments_lexer": "ipython2",
   "version": "2.7.10"
  }
 },
 "nbformat": 4,
 "nbformat_minor": 0
}
