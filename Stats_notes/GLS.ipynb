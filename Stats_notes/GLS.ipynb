{
 "cells": [
  {
   "cell_type": "markdown",
   "metadata": {},
   "source": [
    "### Linear models\n",
    "$$Ax = b + e$$\n",
    "Matrix $A$ is a $m\\times n$ matrix, with $m\\ge n$ and $rank(A) = n$. $b$ is a vector of measured values, $e$ is a vector of residuals. Both $b$ and $e$ have $m$ entries.\n",
    "\n",
    "### Least squares\n",
    "To solve for $x$ (coefficiences), the ordinary least squares solution is \n",
    "$$\\hat{x}=\\arg\\,\\min_{x}\\,\\parallel\\mathbf{A}x-\\mathbf{b}\\parallel^2.$$\n",
    "\n",
    "The condition that $rank(A) = n$ implies that there exists a unique least squares solution.\n"
   ]
  }
 ],
 "metadata": {
  "kernelspec": {
   "display_name": "R",
   "language": "R",
   "name": "ir"
  },
  "language_info": {
   "codemirror_mode": "r",
   "file_extension": ".r",
   "mimetype": "text/x-r-source",
   "name": "R",
   "pygments_lexer": "r",
   "version": "3.2.2"
  }
 },
 "nbformat": 4,
 "nbformat_minor": 0
}
