{
 "cells": [
  {
   "cell_type": "markdown",
   "metadata": {},
   "source": [
    "Notes from Stat 849 at UW-Madison: http://www.stat.wisc.edu/courses/st849-bates/lectures/"
   ]
  },
  {
   "cell_type": "markdown",
   "metadata": {},
   "source": [
    "## Chapter 1: The Gaussian Linear Model\n",
    "Reponses: Vector-valued random variable, $\\mathcal{Y}$. Observed values of the responses, represented by the vector $y$.\n",
    "\n",
    "Predictors: $X\\beta$, where the $n \\times p$ matrix $X$ is the *model matrix*, $n$ is the number of obsrvations, and $p$ is the dimension of the *coefficient vector*, $\\beta$. The coefficients are *parameters* in the model. We form *estimates* $\\hat{\\beta}$ of these paramters from the observed data. We assume that $n \\geq q$.\n",
    "\n",
    "$$\\mathcal{Y} \\sim \\text{Multivariate Gaussian}(X\\beta_T, \\sigma^2I_n)$$\n",
    "\n",
    "where $\\beta_T$ is the \"true\", but unknown, value of the coefficient vector. The probability density of $\\mathcal{Y}$ (is also called a *spherical normal density*): $$f_{\\mathcal{Y}}(\\mathbf{y}) = \\frac{1}{(2\\pi\\sigma^{2})^{n/2}} \\exp\\left(\\frac{-\\parallel\\mathbf{y} - \\mathbf{X}\\beta_{T}\\parallel^{2}}{2\\sigma^2}\\right)$$\n",
    "\n",
    "The likelihhod: $$L(\\beta,\\sigma | \\mathbf{y}) = \\frac{1}{(2\\pi\\sigma^{2})^{n/2}} \\exp\\left(\\frac{-\\parallel\\mathbf{y} - \\mathbf{X}\\beta\\parallel^{2}}{2\\sigma^2}\\right)$$\n",
    "\n",
    "The *maximum likelihood estimates (mles)* of the parameters are the values of the parameters ($\\hat{\\beta}, \\hat{\\sigma}$) that maximize the likelihood.\n",
    "\n",
    "The log-likelihood: $$\\ell(\\beta,\\sigma|\\mathbf{y})=\\log(L(\\beta,\\sigma|\\mathbf{y}))=-\\frac{n}{2}\\log(2\\pi\\sigma^{2})-\\frac{-\\parallel\\mathbf{y}-\\mathbf{X}\\beta\\parallel^{2}}{2\\sigma^{2}}$$\n",
    "\n",
    "The *deviance*: $$d(\\beta,\\sigma|\\mathbf{y}) = -2\\ell(\\beta,\\sigma|\\mathbf{y}) = n\\log(2\\pi\\sigma^{2}) + \\frac{-\\parallel\\mathbf{y}-\\mathbf{X}\\beta\\parallel^{2}}{\\sigma^{2}}$$ \n",
    "\n",
    "Because of the negative sign, the mle’s are the values that minimize the deviance. For any fixed value of $\\sigma^2$, the deviance is minimized with respect to $\\beta$ when the residual sum of squares, $$S(\\beta | \\mathbf{y}) = \\parallel\\mathbf{y} - \\mathbf{X}\\beta\\parallel^{2},$$  \n",
    "is minimized. Thus the mle of the coefficient vector, $\\hat{\\beta}$, in the Gaussian linear model is the *least squares estimate* $$\\hat{\\beta}=\\arg\\,\\min_{\\beta}\\,\\parallel\\mathbf{y}-\\mathbf{X}\\beta\\parallel^2.$$\n"
   ]
  },
  {
   "cell_type": "markdown",
   "metadata": {},
   "source": [
    "### Linear algebra of least squares\n",
    "An *orthogonal* $n \\times n$ matrix, $Q$, has the property $Q'Q=QQ'=I_{n}$. An orthogonal matrix has a special property that it **preserves lengths**.\n",
    "$$\\parallel Qx\\parallel^{2}=(Qx)'Qx=x'Q'Qx=x'x=\\parallel x\\parallel^{2}$$\n",
    "\n",
    "#### The QR decomposition\n",
    "**Any** $n\\times p$ matrix $X$ has a QR decomposition consisting of\n",
    "an orthogonal $n\\times n$ matrix $Q$ and a $p\\times p$ matrix $R$\n",
    "that is zero below the main diagonal (in other words, it is *upper\n",
    "triangular*). The QR decomposition of the model matrix $X$ is written\n",
    "$$X=Q\\begin{bmatrix}R\\\\\n",
    "0\n",
    "\\end{bmatrix}=\\begin{bmatrix}Q_{1} & Q_{2}\\end{bmatrix}\\begin{bmatrix}R\\\\\n",
    "0\n",
    "\\end{bmatrix}=Q_{1}R$$\n",
    "\n",
    "where $Q_{1}$ is the first $p$ columns of $Q$ and $Q_{2}$ is the last $n-p$ columns of $Q$.\n",
    "\n",
    "If the diagonal elements of $R$ are all non-zero (in practice this means that none of them are very small in absolute value) then $X$ has *full column rank* and the columns of $Q_1$ form an orthonormal basis for the column space of $X$ [col($X$)]. If the rank of $X$ is $k < p$ (rank-deficient), using a $p \\times p$ permutation matrix $P$, we can make the first $k$ columns of $Q$ form an othonormal basis for col($XP$).\n",
    "\n",
    "$$\\begin{array}{cl}\n",
    "\\hat{\\beta} & = \\arg\\,\\min_{\\beta}\\,\\parallel\\mathbf{y}-\\mathbf{X}\\beta\\parallel^2\\\\\n",
    " & = \\arg\\,\\min_{\\beta}\\,\\parallel Q' (\\mathbf{y}-\\mathbf{X}\\beta)\\parallel^2\\\\\n",
    " & = \\arg\\,\\min_{\\beta}\\,\\parallel Q'\\mathbf{y}-Q'\\mathbf{X}\\beta\\parallel^2\\\\\n",
    " & = \\arg\\,\\min_{\\beta}\\,\\parallel Q'\\mathbf{y}-Q'QR\\beta\\parallel^2\\\\\n",
    " & = \\arg\\,\\min_{\\beta}\\,\\parallel Q_1'\\mathbf{y}-R\\beta\\parallel^2 + \\parallel Q_2'\\mathbf{y}\\parallel\n",
    "\\end{array} $$\n",
    "\n",
    "If rank($X$) = $p$ then rank($R$) = $p$ and $R^{-1}$ exists so we can write $\\hat{\\beta} = R^{-1}Q_1'\\mathbf{y}$, though you do not acutually calculate $R^{-1}$ to solve for $\\hat{\\beta}$.\n",
    "\n",
    "In a model fit by the `lm()` or `aov()` functions in `R` there is a component `$effects` which is $Q'\\mathbf{y}$. The component `$qr` is a condensed form of the $QR$ decomposition of the model matrix $X$. The matrix $R$ is embedded in there but the matrix $Q$ is a virtual matrix represented as a product of Householder reflections and not usually evaluated/created explicitly."
   ]
  },
  {
   "cell_type": "code",
   "execution_count": 4,
   "metadata": {
    "collapsed": false
   },
   "outputs": [
    {
     "data": {
      "text/html": [
       "<table>\n",
       "<thead><tr><th></th><th scope=col>(Intercept)</th><th scope=col>carb</th></tr></thead>\n",
       "<tbody>\n",
       "\t<tr><th scope=row>1</th><td>1.0</td><td>0.1</td></tr>\n",
       "\t<tr><th scope=row>2</th><td>1.0</td><td>0.3</td></tr>\n",
       "\t<tr><th scope=row>3</th><td>1.0</td><td>0.5</td></tr>\n",
       "\t<tr><th scope=row>4</th><td>1.0</td><td>0.6</td></tr>\n",
       "\t<tr><th scope=row>5</th><td>1.0</td><td>0.7</td></tr>\n",
       "\t<tr><th scope=row>6</th><td>1.0</td><td>0.9</td></tr>\n",
       "</tbody>\n",
       "</table>\n"
      ],
      "text/latex": [
       "\\begin{tabular}{r|ll}\n",
       "  & (Intercept) & carb\\\\\n",
       "\\hline\n",
       "\t1 & 1.0 & 0.1\\\\\n",
       "\t2 & 1.0 & 0.3\\\\\n",
       "\t3 & 1.0 & 0.5\\\\\n",
       "\t4 & 1.0 & 0.6\\\\\n",
       "\t5 & 1.0 & 0.7\\\\\n",
       "\t6 & 1.0 & 0.9\\\\\n",
       "\\end{tabular}\n"
      ],
      "text/markdown": [
       "1. 1\n",
       "2. 1\n",
       "3. 1\n",
       "4. 1\n",
       "5. 1\n",
       "6. 1\n",
       "7. 0.1\n",
       "8. 0.3\n",
       "9. 0.5\n",
       "10. 0.6\n",
       "11. 0.7\n",
       "12. 0.9\n",
       "\n",
       "\n"
      ],
      "text/plain": [
       "  (Intercept) carb\n",
       "1           1  0.1\n",
       "2           1  0.3\n",
       "3           1  0.5\n",
       "4           1  0.6\n",
       "5           1  0.7\n",
       "6           1  0.9\n",
       "attr(,\"assign\")\n",
       "[1] 0 1"
      ]
     },
     "execution_count": 4,
     "metadata": {},
     "output_type": "execute_result"
    }
   ],
   "source": [
    "data(Formaldehyde)\n",
    "Formaldehyde"
   ]
  },
  {
   "cell_type": "code",
   "execution_count": 5,
   "metadata": {
    "collapsed": false
   },
   "outputs": [
    {
     "data": {
      "text/html": [
       "<table>\n",
       "<thead><tr><th></th><th scope=col>(Intercept)</th><th scope=col>carb</th></tr></thead>\n",
       "<tbody>\n",
       "\t<tr><th scope=row>1</th><td>1.0</td><td>0.1</td></tr>\n",
       "\t<tr><th scope=row>2</th><td>1.0</td><td>0.3</td></tr>\n",
       "\t<tr><th scope=row>3</th><td>1.0</td><td>0.5</td></tr>\n",
       "\t<tr><th scope=row>4</th><td>1.0</td><td>0.6</td></tr>\n",
       "\t<tr><th scope=row>5</th><td>1.0</td><td>0.7</td></tr>\n",
       "\t<tr><th scope=row>6</th><td>1.0</td><td>0.9</td></tr>\n",
       "</tbody>\n",
       "</table>\n"
      ],
      "text/latex": [
       "\\begin{tabular}{r|ll}\n",
       "  & (Intercept) & carb\\\\\n",
       "\\hline\n",
       "\t1 & 1.0 & 0.1\\\\\n",
       "\t2 & 1.0 & 0.3\\\\\n",
       "\t3 & 1.0 & 0.5\\\\\n",
       "\t4 & 1.0 & 0.6\\\\\n",
       "\t5 & 1.0 & 0.7\\\\\n",
       "\t6 & 1.0 & 0.9\\\\\n",
       "\\end{tabular}\n"
      ],
      "text/markdown": [
       "1. 1\n",
       "2. 1\n",
       "3. 1\n",
       "4. 1\n",
       "5. 1\n",
       "6. 1\n",
       "7. 0.1\n",
       "8. 0.3\n",
       "9. 0.5\n",
       "10. 0.6\n",
       "11. 0.7\n",
       "12. 0.9\n",
       "\n",
       "\n"
      ],
      "text/plain": [
       "  (Intercept) carb\n",
       "1           1  0.1\n",
       "2           1  0.3\n",
       "3           1  0.5\n",
       "4           1  0.6\n",
       "5           1  0.7\n",
       "6           1  0.9\n",
       "attr(,\"assign\")\n",
       "[1] 0 1"
      ]
     },
     "execution_count": 5,
     "metadata": {},
     "output_type": "execute_result"
    }
   ],
   "source": [
    "(X <- model.matrix(lm1 <- lm(optden ~ 1 + carb, Formaldehyde)))\n",
    "# model.matrix returns X"
   ]
  },
  {
   "cell_type": "code",
   "execution_count": 23,
   "metadata": {
    "collapsed": false
   },
   "outputs": [
    {
     "data": {
      "text/html": [
       "<dl class=dl-horizontal>\n",
       "\t<dt>1</dt>\n",
       "\t\t<dd>0.086</dd>\n",
       "\t<dt>2</dt>\n",
       "\t\t<dd>0.269</dd>\n",
       "\t<dt>3</dt>\n",
       "\t\t<dd>0.446</dd>\n",
       "\t<dt>4</dt>\n",
       "\t\t<dd>0.538</dd>\n",
       "\t<dt>5</dt>\n",
       "\t\t<dd>0.626</dd>\n",
       "\t<dt>6</dt>\n",
       "\t\t<dd>0.782</dd>\n",
       "</dl>\n"
      ],
      "text/latex": [
       "\\begin{description*}\n",
       "\\item[1] 0.086\n",
       "\\item[2] 0.269\n",
       "\\item[3] 0.446\n",
       "\\item[4] 0.538\n",
       "\\item[5] 0.626\n",
       "\\item[6] 0.782\n",
       "\\end{description*}\n"
      ],
      "text/markdown": [
       "1\n",
       ":   0.0862\n",
       ":   0.2693\n",
       ":   0.4464\n",
       ":   0.5385\n",
       ":   0.6266\n",
       ":   0.782\n",
       "\n"
      ],
      "text/plain": [
       "    1     2     3     4     5     6 \n",
       "0.086 0.269 0.446 0.538 0.626 0.782 "
      ]
     },
     "execution_count": 23,
     "metadata": {},
     "output_type": "execute_result"
    }
   ],
   "source": [
    "# model.frame generates X and y\n",
    "(y = model.response(model.frame(lm1)))"
   ]
  },
  {
   "cell_type": "code",
   "execution_count": 6,
   "metadata": {
    "collapsed": false
   },
   "outputs": [
    {
     "data": {
      "text/html": [
       "'qr'"
      ],
      "text/latex": [
       "'qr'"
      ],
      "text/markdown": [
       "'qr'"
      ],
      "text/plain": [
       "[1] \"qr\""
      ]
     },
     "execution_count": 6,
     "metadata": {},
     "output_type": "execute_result"
    }
   ],
   "source": [
    "class(qrlm1 <- lm1$qr)"
   ]
  },
  {
   "cell_type": "code",
   "execution_count": 7,
   "metadata": {
    "collapsed": false
   },
   "outputs": [
    {
     "data": {
      "text/html": [
       "<table>\n",
       "<thead><tr><th></th><th scope=col>(Intercept)</th><th scope=col>carb</th></tr></thead>\n",
       "<tbody>\n",
       "\t<tr><th scope=row>1</th><td>-2.44949</td><td>-1.26557</td></tr>\n",
       "\t<tr><th scope=row>2</th><td>0.0000000</td><td>0.6390097</td></tr>\n",
       "</tbody>\n",
       "</table>\n"
      ],
      "text/latex": [
       "\\begin{tabular}{r|ll}\n",
       "  & (Intercept) & carb\\\\\n",
       "\\hline\n",
       "\t1 & -2.44949 & -1.26557\\\\\n",
       "\t2 & 0.0000000 & 0.6390097\\\\\n",
       "\\end{tabular}\n"
      ],
      "text/markdown": [
       "1. -2.44948974278318\n",
       "2. 0\n",
       "3. -1.26556970043798\n",
       "4. 0.639009650422694\n",
       "\n",
       "\n"
      ],
      "text/plain": [
       "  (Intercept)       carb\n",
       "1    -2.44949 -1.2655697\n",
       "2     0.00000  0.6390097"
      ]
     },
     "execution_count": 7,
     "metadata": {},
     "output_type": "execute_result"
    }
   ],
   "source": [
    "(R <- qr.R(qrlm1))"
   ]
  },
  {
   "cell_type": "code",
   "execution_count": 8,
   "metadata": {
    "collapsed": false
   },
   "outputs": [
    {
     "data": {
      "text/html": [
       "<table>\n",
       "<tbody>\n",
       "\t<tr><td>-0.4082483</td><td>-0.6520507</td></tr>\n",
       "\t<tr><td>-0.4082483</td><td>-0.3390663</td></tr>\n",
       "\t<tr><td>-0.40824829</td><td>-0.02608203</td></tr>\n",
       "\t<tr><td>-0.4082483</td><td> 0.1304101</td></tr>\n",
       "\t<tr><td>-0.4082483</td><td> 0.2869023</td></tr>\n",
       "\t<tr><td>-0.4082483</td><td> 0.5998866</td></tr>\n",
       "</tbody>\n",
       "</table>\n"
      ],
      "text/latex": [
       "\\begin{tabular}{ll}\n",
       "\t -0.4082483 & -0.6520507\\\\\n",
       "\t -0.4082483 & -0.3390663\\\\\n",
       "\t -0.40824829 & -0.02608203\\\\\n",
       "\t -0.4082483 &  0.1304101\\\\\n",
       "\t -0.4082483 &  0.2869023\\\\\n",
       "\t -0.4082483 &  0.5998866\\\\\n",
       "\\end{tabular}\n"
      ],
      "text/markdown": [
       "1. -0.408248290463863\n",
       "2. -0.408248290463863\n",
       "3. -0.408248290463863\n",
       "4. -0.408248290463863\n",
       "5. -0.408248290463863\n",
       "6. -0.408248290463863\n",
       "7. -0.652050663696626\n",
       "8. -0.339066345122246\n",
       "9. -0.0260820265478651\n",
       "10. 0.130410132739325\n",
       "11. 0.286902292026516\n",
       "12. 0.599886610600896\n",
       "\n",
       "\n"
      ],
      "text/plain": [
       "           [,1]        [,2]\n",
       "[1,] -0.4082483 -0.65205066\n",
       "[2,] -0.4082483 -0.33906635\n",
       "[3,] -0.4082483 -0.02608203\n",
       "[4,] -0.4082483  0.13041013\n",
       "[5,] -0.4082483  0.28690229\n",
       "[6,] -0.4082483  0.59988661"
      ]
     },
     "execution_count": 8,
     "metadata": {},
     "output_type": "execute_result"
    }
   ],
   "source": [
    "(Q1 <- qr.Q(qrlm1))"
   ]
  },
  {
   "cell_type": "code",
   "execution_count": 13,
   "metadata": {
    "collapsed": false
   },
   "outputs": [
    {
     "data": {
      "text/html": [
       "<table>\n",
       "<thead><tr><th scope=col>(Intercept)</th><th scope=col>carb</th></tr></thead>\n",
       "<tbody>\n",
       "\t<tr><td>1.0</td><td>0.1</td></tr>\n",
       "\t<tr><td>1.0</td><td>0.3</td></tr>\n",
       "\t<tr><td>1.0</td><td>0.5</td></tr>\n",
       "\t<tr><td>1.0</td><td>0.6</td></tr>\n",
       "\t<tr><td>1.0</td><td>0.7</td></tr>\n",
       "\t<tr><td>1.0</td><td>0.9</td></tr>\n",
       "</tbody>\n",
       "</table>\n"
      ],
      "text/latex": [
       "\\begin{tabular}{ll}\n",
       " (Intercept) & carb\\\\\n",
       "\\hline\n",
       "\t 1.0 & 0.1\\\\\n",
       "\t 1.0 & 0.3\\\\\n",
       "\t 1.0 & 0.5\\\\\n",
       "\t 1.0 & 0.6\\\\\n",
       "\t 1.0 & 0.7\\\\\n",
       "\t 1.0 & 0.9\\\\\n",
       "\\end{tabular}\n"
      ],
      "text/markdown": [
       "1. 1\n",
       "2. 1\n",
       "3. 1\n",
       "4. 1\n",
       "5. 1\n",
       "6. 1\n",
       "7. 0.1\n",
       "8. 0.3\n",
       "9. 0.5\n",
       "10. 0.6\n",
       "11. 0.7\n",
       "12. 0.9\n",
       "\n",
       "\n"
      ],
      "text/plain": [
       "     (Intercept) carb\n",
       "[1,]           1  0.1\n",
       "[2,]           1  0.3\n",
       "[3,]           1  0.5\n",
       "[4,]           1  0.6\n",
       "[5,]           1  0.7\n",
       "[6,]           1  0.9"
      ]
     },
     "execution_count": 13,
     "metadata": {},
     "output_type": "execute_result"
    }
   ],
   "source": [
    "(Q1R <- Q1 %*% R) "
   ]
  },
  {
   "cell_type": "code",
   "execution_count": 15,
   "metadata": {
    "collapsed": false
   },
   "outputs": [
    {
     "data": {
      "text/html": [
       "TRUE"
      ],
      "text/latex": [
       "TRUE"
      ],
      "text/markdown": [
       "TRUE"
      ],
      "text/plain": [
       "[1] TRUE"
      ]
     },
     "execution_count": 15,
     "metadata": {},
     "output_type": "execute_result"
    }
   ],
   "source": [
    "all.equal(X, Q1R, check.attributes = F) # should be able to reconstruct model matrix X"
   ]
  },
  {
   "cell_type": "code",
   "execution_count": 19,
   "metadata": {
    "collapsed": false
   },
   "outputs": [
    {
     "data": {
      "text/html": [
       "<table>\n",
       "<tbody>\n",
       "\t<tr><td>-0.4082483</td><td>-0.6520507</td><td>-0.3737045</td><td>-0.3405290</td><td>-0.3073534</td><td>-0.2410023</td></tr>\n",
       "\t<tr><td>-0.40824829</td><td>-0.33906635</td><td> 0.05460995</td><td> 0.22071963</td><td> 0.38682932</td><td> 0.71904869</td></tr>\n",
       "\t<tr><td>-0.40824829</td><td>-0.02608203</td><td> 0.86857638</td><td>-0.14397908</td><td>-0.15653455</td><td>-0.18164549</td></tr>\n",
       "\t<tr><td>-0.4082483</td><td> 0.1304101</td><td>-0.1535966</td><td> 0.8125532</td><td>-0.2212971</td><td>-0.2889976</td></tr>\n",
       "\t<tr><td>-0.4082483</td><td> 0.2869023</td><td>-0.1757696</td><td>-0.2309146</td><td> 0.7139404</td><td>-0.3963496</td></tr>\n",
       "\t<tr><td>-0.4082483</td><td> 0.5998866</td><td>-0.2201156</td><td>-0.3178501</td><td>-0.4155847</td><td> 0.3889463</td></tr>\n",
       "</tbody>\n",
       "</table>\n"
      ],
      "text/latex": [
       "\\begin{tabular}{llllll}\n",
       "\t -0.4082483 & -0.6520507 & -0.3737045 & -0.3405290 & -0.3073534 & -0.2410023\\\\\n",
       "\t -0.40824829 & -0.33906635 &  0.05460995 &  0.22071963 &  0.38682932 &  0.71904869\\\\\n",
       "\t -0.40824829 & -0.02608203 &  0.86857638 & -0.14397908 & -0.15653455 & -0.18164549\\\\\n",
       "\t -0.4082483 &  0.1304101 & -0.1535966 &  0.8125532 & -0.2212971 & -0.2889976\\\\\n",
       "\t -0.4082483 &  0.2869023 & -0.1757696 & -0.2309146 &  0.7139404 & -0.3963496\\\\\n",
       "\t -0.4082483 &  0.5998866 & -0.2201156 & -0.3178501 & -0.4155847 &  0.3889463\\\\\n",
       "\\end{tabular}\n"
      ],
      "text/markdown": [
       "1. -0.408248290463863\n",
       "2. -0.408248290463863\n",
       "3. -0.408248290463863\n",
       "4. -0.408248290463863\n",
       "5. -0.408248290463863\n",
       "6. -0.408248290463863\n",
       "7. -0.652050663696626\n",
       "8. -0.339066345122246\n",
       "9. -0.0260820265478651\n",
       "10. 0.130410132739325\n",
       "11. 0.286902292026516\n",
       "12. 0.599886610600896\n",
       "13. -0.37370452338849\n",
       "14. 0.0546099485161212\n",
       "15. 0.868576384227764\n",
       "16. -0.153596610349191\n",
       "17. -0.175769604926147\n",
       "18. -0.220115594080058\n",
       "19. -0.340528964541472\n",
       "20. 0.220719634255282\n",
       "21. -0.143979083897221\n",
       "22. 0.812553154084932\n",
       "23. -0.230914607932914\n",
       "24. -0.317850131968607\n",
       "25. -0.307353405694455\n",
       "26. 0.386829319994442\n",
       "27. -0.156534552022206\n",
       "28. -0.221297081480944\n",
       "29. 0.713940389060319\n",
       "30. -0.415584669857157\n",
       "31. -0.24100228800042\n",
       "32. 0.719048691472764\n",
       "33. -0.181645488272176\n",
       "34. -0.288997552612696\n",
       "35. -0.396349616953216\n",
       "36. 0.388946254365744\n",
       "\n",
       "\n"
      ],
      "text/plain": [
       "           [,1]        [,2]        [,3]       [,4]       [,5]       [,6]\n",
       "[1,] -0.4082483 -0.65205066 -0.37370452 -0.3405290 -0.3073534 -0.2410023\n",
       "[2,] -0.4082483 -0.33906635  0.05460995  0.2207196  0.3868293  0.7190487\n",
       "[3,] -0.4082483 -0.02608203  0.86857638 -0.1439791 -0.1565346 -0.1816455\n",
       "[4,] -0.4082483  0.13041013 -0.15359661  0.8125532 -0.2212971 -0.2889976\n",
       "[5,] -0.4082483  0.28690229 -0.17576960 -0.2309146  0.7139404 -0.3963496\n",
       "[6,] -0.4082483  0.59988661 -0.22011559 -0.3178501 -0.4155847  0.3889463"
      ]
     },
     "execution_count": 19,
     "metadata": {},
     "output_type": "execute_result"
    }
   ],
   "source": [
    "(Q <- qr.Q(qrlm1, complete=TRUE)) # produce the full n*n orthogonal matrix Q"
   ]
  },
  {
   "cell_type": "code",
   "execution_count": 28,
   "metadata": {
    "collapsed": false
   },
   "outputs": [
    {
     "data": {
      "text/html": [
       "<ol class=list-inline>\n",
       "\t<li>-1.12145805390423</li>\n",
       "\t<li>0.559955027956115</li>\n",
       "\t<li>0.00513941088277124</li>\n",
       "\t<li>0.0099156683781822</li>\n",
       "\t<li>0.0106919258735931</li>\n",
       "\t<li>-0.00775555913558512</li>\n",
       "</ol>\n"
      ],
      "text/latex": [
       "\\begin{enumerate*}\n",
       "\\item -1.12145805390423\n",
       "\\item 0.559955027956115\n",
       "\\item 0.00513941088277124\n",
       "\\item 0.0099156683781822\n",
       "\\item 0.0106919258735931\n",
       "\\item -0.00775555913558512\n",
       "\\end{enumerate*}\n"
      ],
      "text/markdown": [
       "1. -1.12145805390423\n",
       "2. 0.559955027956115\n",
       "3. 0.00513941088277124\n",
       "4. 0.0099156683781822\n",
       "5. 0.0106919258735931\n",
       "6. -0.00775555913558512\n",
       "\n",
       "\n"
      ],
      "text/plain": [
       "[1] -1.121458054  0.559955028  0.005139411  0.009915668  0.010691926\n",
       "[6] -0.007755559"
      ]
     },
     "execution_count": 28,
     "metadata": {},
     "output_type": "execute_result"
    }
   ],
   "source": [
    "as.vector(lm1$effects)"
   ]
  },
  {
   "cell_type": "code",
   "execution_count": 27,
   "metadata": {
    "collapsed": false
   },
   "outputs": [
    {
     "data": {
      "text/html": [
       "<ol class=list-inline>\n",
       "\t<li>-1.12145805390423</li>\n",
       "\t<li>0.559955027956115</li>\n",
       "\t<li>0.00513941088277128</li>\n",
       "\t<li>0.00991566837818228</li>\n",
       "\t<li>0.0106919258735932</li>\n",
       "\t<li>-0.00775555913558501</li>\n",
       "</ol>\n"
      ],
      "text/latex": [
       "\\begin{enumerate*}\n",
       "\\item -1.12145805390423\n",
       "\\item 0.559955027956115\n",
       "\\item 0.00513941088277128\n",
       "\\item 0.00991566837818228\n",
       "\\item 0.0106919258735932\n",
       "\\item -0.00775555913558501\n",
       "\\end{enumerate*}\n"
      ],
      "text/markdown": [
       "1. -1.12145805390423\n",
       "2. 0.559955027956115\n",
       "3. 0.00513941088277128\n",
       "4. 0.00991566837818228\n",
       "5. 0.0106919258735932\n",
       "6. -0.00775555913558501\n",
       "\n",
       "\n"
      ],
      "text/plain": [
       "[1] -1.121458054  0.559955028  0.005139411  0.009915668  0.010691926\n",
       "[6] -0.007755559"
      ]
     },
     "execution_count": 27,
     "metadata": {},
     "output_type": "execute_result"
    }
   ],
   "source": [
    "as.vector(crossprod(Q, y)) # crossprod(A, B) creates A'B directly without creating A' from A\n",
    "# crosspod(X) creates X'X; \n",
    "# tcrossprod(X) creates XX'."
   ]
  },
  {
   "cell_type": "code",
   "execution_count": 30,
   "metadata": {
    "collapsed": false
   },
   "outputs": [
    {
     "data": {
      "text/html": [
       "<ol class=list-inline>\n",
       "\t<li>-1.12145805390423</li>\n",
       "\t<li>0.559955027956115</li>\n",
       "\t<li>0.00513941088277124</li>\n",
       "\t<li>0.0099156683781822</li>\n",
       "\t<li>0.0106919258735931</li>\n",
       "\t<li>-0.00775555913558512</li>\n",
       "</ol>\n"
      ],
      "text/latex": [
       "\\begin{enumerate*}\n",
       "\\item -1.12145805390423\n",
       "\\item 0.559955027956115\n",
       "\\item 0.00513941088277124\n",
       "\\item 0.0099156683781822\n",
       "\\item 0.0106919258735931\n",
       "\\item -0.00775555913558512\n",
       "\\end{enumerate*}\n"
      ],
      "text/markdown": [
       "1. -1.12145805390423\n",
       "2. 0.559955027956115\n",
       "3. 0.00513941088277124\n",
       "4. 0.0099156683781822\n",
       "5. 0.0106919258735931\n",
       "6. -0.00775555913558512\n",
       "\n",
       "\n"
      ],
      "text/plain": [
       "[1] -1.121458054  0.559955028  0.005139411  0.009915668  0.010691926\n",
       "[6] -0.007755559"
      ]
     },
     "execution_count": 30,
     "metadata": {},
     "output_type": "execute_result"
    }
   ],
   "source": [
    "as.vector(qr.qty(qrlm1, y)) # another way to produce Q'y"
   ]
  },
  {
   "cell_type": "code",
   "execution_count": 34,
   "metadata": {
    "collapsed": false
   },
   "outputs": [
    {
     "data": {
      "text/html": [
       "<table>\n",
       "<tbody>\n",
       "\t<tr><td>1</td><td>0</td></tr>\n",
       "\t<tr><td>0</td><td>1</td></tr>\n",
       "</tbody>\n",
       "</table>\n"
      ],
      "text/latex": [
       "\\begin{tabular}{ll}\n",
       "\t 1 & 0\\\\\n",
       "\t 0 & 1\\\\\n",
       "\\end{tabular}\n"
      ],
      "text/markdown": [
       "1. 1\n",
       "2. 0\n",
       "3. 0\n",
       "4. 1\n",
       "\n",
       "\n"
      ],
      "text/plain": [
       "     [,1] [,2]\n",
       "[1,]    1    0\n",
       "[2,]    0    1"
      ]
     },
     "execution_count": 34,
     "metadata": {},
     "output_type": "execute_result"
    }
   ],
   "source": [
    "zapsmall(crossprod(Q1)) # Q1'Q1 = I"
   ]
  },
  {
   "cell_type": "code",
   "execution_count": 33,
   "metadata": {
    "collapsed": false
   },
   "outputs": [
    {
     "data": {
      "text/html": [
       "<table>\n",
       "<tbody>\n",
       "\t<tr><td>1</td><td>0</td><td>0</td><td>0</td><td>0</td><td>0</td></tr>\n",
       "\t<tr><td>0</td><td>1</td><td>0</td><td>0</td><td>0</td><td>0</td></tr>\n",
       "\t<tr><td>0</td><td>0</td><td>1</td><td>0</td><td>0</td><td>0</td></tr>\n",
       "\t<tr><td>0</td><td>0</td><td>0</td><td>1</td><td>0</td><td>0</td></tr>\n",
       "\t<tr><td>0</td><td>0</td><td>0</td><td>0</td><td>1</td><td>0</td></tr>\n",
       "\t<tr><td>0</td><td>0</td><td>0</td><td>0</td><td>0</td><td>1</td></tr>\n",
       "</tbody>\n",
       "</table>\n"
      ],
      "text/latex": [
       "\\begin{tabular}{llllll}\n",
       "\t 1 & 0 & 0 & 0 & 0 & 0\\\\\n",
       "\t 0 & 1 & 0 & 0 & 0 & 0\\\\\n",
       "\t 0 & 0 & 1 & 0 & 0 & 0\\\\\n",
       "\t 0 & 0 & 0 & 1 & 0 & 0\\\\\n",
       "\t 0 & 0 & 0 & 0 & 1 & 0\\\\\n",
       "\t 0 & 0 & 0 & 0 & 0 & 1\\\\\n",
       "\\end{tabular}\n"
      ],
      "text/markdown": [
       "1. 1\n",
       "2. 0\n",
       "3. 0\n",
       "4. 0\n",
       "5. 0\n",
       "6. 0\n",
       "7. 0\n",
       "8. 1\n",
       "9. 0\n",
       "10. 0\n",
       "11. 0\n",
       "12. 0\n",
       "13. 0\n",
       "14. 0\n",
       "15. 1\n",
       "16. 0\n",
       "17. 0\n",
       "18. 0\n",
       "19. 0\n",
       "20. 0\n",
       "21. 0\n",
       "22. 1\n",
       "23. 0\n",
       "24. 0\n",
       "25. 0\n",
       "26. 0\n",
       "27. 0\n",
       "28. 0\n",
       "29. 1\n",
       "30. 0\n",
       "31. 0\n",
       "32. 0\n",
       "33. 0\n",
       "34. 0\n",
       "35. 0\n",
       "36. 1\n",
       "\n",
       "\n"
      ],
      "text/plain": [
       "     [,1] [,2] [,3] [,4] [,5] [,6]\n",
       "[1,]    1    0    0    0    0    0\n",
       "[2,]    0    1    0    0    0    0\n",
       "[3,]    0    0    1    0    0    0\n",
       "[4,]    0    0    0    1    0    0\n",
       "[5,]    0    0    0    0    1    0\n",
       "[6,]    0    0    0    0    0    1"
      ]
     },
     "execution_count": 33,
     "metadata": {},
     "output_type": "execute_result"
    }
   ],
   "source": [
    "zapsmall(crossprod(Q)) # Q'Q = I"
   ]
  },
  {
   "cell_type": "code",
   "execution_count": null,
   "metadata": {
    "collapsed": true
   },
   "outputs": [],
   "source": []
  }
 ],
 "metadata": {
  "kernelspec": {
   "display_name": "R",
   "language": "R",
   "name": "ir"
  },
  "language_info": {
   "codemirror_mode": "r",
   "file_extension": ".r",
   "mimetype": "text/x-r-source",
   "name": "R",
   "pygments_lexer": "r",
   "version": "3.2.2"
  }
 },
 "nbformat": 4,
 "nbformat_minor": 0
}
