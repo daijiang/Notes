{
 "cells": [
  {
   "cell_type": "markdown",
   "metadata": {},
   "source": [
    "Notes from Stat 849 at UW-Madison: http://www.stat.wisc.edu/courses/st849-bates/lectures/"
   ]
  },
  {
   "cell_type": "markdown",
   "metadata": {},
   "source": [
    "## Chapter 1: The Gaussian Linear Model\n",
    "Reponses: Vector-valued random variable, $\\mathcal{Y}$. Observed values of the responses, represented by the vector $y$.\n",
    "\n",
    "Predictors: $X\\beta$, where the $n \\times p$ matrix $X$ is the *model matrix*, $n$ is the number of obsrvations, and $p$ is the dimension of the *coefficient vector*, $\\beta$. The coefficients are *parameters* in the model. We form *estimates* $\\hat{\\beta}$ of these paramters from the observed data. We assume that $n \\geq q$.\n",
    "\n",
    "$$\\mathcal{Y} \\sim \\text{Multivariate Gaussian}(X\\beta_T, \\sigma^2I_n)$$\n",
    "where $\\beta_T$ is the \"true\", but unknown, value of the coefficient vector."
   ]
  }
 ],
 "metadata": {
  "kernelspec": {
   "display_name": "R",
   "language": "R",
   "name": "ir"
  },
  "language_info": {
   "codemirror_mode": "r",
   "file_extension": ".r",
   "mimetype": "text/x-r-source",
   "name": "R",
   "pygments_lexer": "r",
   "version": "3.2.2"
  }
 },
 "nbformat": 4,
 "nbformat_minor": 0
}
