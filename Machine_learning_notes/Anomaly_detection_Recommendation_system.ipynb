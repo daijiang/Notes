{
 "cells": [
  {
   "cell_type": "markdown",
   "metadata": {},
   "source": [
    "## Anomaly detection\n",
    "![Imgur](http://i.imgur.com/QFFLv0f.png)\n",
    "![Imgur](http://i.imgur.com/PzPpZUj.png)\n",
    "![Imgur](http://i.imgur.com/nVG9TOH.png)\n",
    "![Imgur](http://i.imgur.com/TIbGAnC.png)\n",
    "![Imgur](http://i.imgur.com/quQ9jR4.png)\n",
    "![Imgur](http://i.imgur.com/Ef0bZ3L.png)\n",
    "\n",
    "####  Problem\n",
    "![Imgur](http://i.imgur.com/GhzEwLO.png)\n",
    "![Imgur](http://i.imgur.com/nprIwT6.png)\n",
    "![Imgur](http://i.imgur.com/EdhXfES.png)\n",
    "![Imgur](http://i.imgur.com/1ZY2fqz.png)\n",
    "![Imgur](http://i.imgur.com/4Lu808p.png)\n",
    "![Imgur](http://i.imgur.com/rptq3pS.png)\n",
    "![Imgur](http://i.imgur.com/AEc1a95.png)\n",
    "![Imgur](http://i.imgur.com/NdU2cSD.png)\n",
    "![Imgur](http://i.imgur.com/jvhipKW.png)\n",
    "![Imgur](http://i.imgur.com/WpaMzca.png)\n",
    "\n",
    "\n"
   ]
  },
  {
   "cell_type": "markdown",
   "metadata": {},
   "source": [
    "## Recommendation system\n",
    "![Imgur](http://i.imgur.com/48luVvi.png)\n",
    "![Imgur](http://i.imgur.com/7qKuYZk.png)\n",
    "![Imgur](http://i.imgur.com/oCZOoyo.png)\n",
    "![Imgur](http://i.imgur.com/PUXO9hR.png)\n",
    "![Imgur](http://i.imgur.com/MUMmy91.png)\n",
    "\n",
    "#### collaborative filtering\n",
    "![Imgur](http://i.imgur.com/EBmqE72.png)\n",
    "![Imgur](http://i.imgur.com/AhtF85L.png)\n",
    "![Imgur](http://i.imgur.com/ewXIBvl.png)\n",
    "![Imgur](http://i.imgur.com/x0j2uEw.png)\n",
    "![Imgur](http://i.imgur.com/63VZfEM.png)\n",
    "![Imgur](http://i.imgur.com/sotbQq6.png)\n",
    "![Imgur](http://i.imgur.com/SCVB4XS.png)"
   ]
  },
  {
   "cell_type": "code",
   "execution_count": null,
   "metadata": {
    "collapsed": true
   },
   "outputs": [],
   "source": []
  }
 ],
 "metadata": {
  "kernelspec": {
   "display_name": "Python 2",
   "language": "python",
   "name": "python2"
  },
  "language_info": {
   "codemirror_mode": {
    "name": "ipython",
    "version": 2
   },
   "file_extension": ".py",
   "mimetype": "text/x-python",
   "name": "python",
   "nbconvert_exporter": "python",
   "pygments_lexer": "ipython2",
   "version": "2.7.10"
  }
 },
 "nbformat": 4,
 "nbformat_minor": 0
}
