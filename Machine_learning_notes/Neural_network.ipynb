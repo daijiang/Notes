{
 "cells": [
  {
   "cell_type": "markdown",
   "metadata": {},
   "source": [
    "### Non-linear hypothesis\n",
    "\n",
    "![Imgur](http://i.imgur.com/rxtBXVH.png)\n",
    "![Imgur](http://i.imgur.com/jLMHFNk.png)\n",
    "![Imgur](http://i.imgur.com/RwGiker.png)"
   ]
  },
  {
   "cell_type": "markdown",
   "metadata": {},
   "source": [
    "### Cost function\n",
    "\n",
    "![Imgur](http://i.imgur.com/rZHWWRd.png)\n",
    "![Imgur](http://i.imgur.com/trrO8Jw.png)\n",
    "![Imgur](http://i.imgur.com/E56hpmF.png)\n",
    "![Imgur](http://i.imgur.com/a86hxLD.png)\n",
    "![Imgur](http://i.imgur.com/QmJOw22.png)\n",
    "![Imgur](http://i.imgur.com/HnJdLYe.png)\n",
    "\n",
    "### Gradient check\n",
    "It is a good idea to do gradient check as even $J(\\Theta)$ decreases with iterations, there may still fitting problems with the neural network.\n",
    "![Imgur](http://i.imgur.com/5VAGG2v.png)\n",
    "![Imgur](http://i.imgur.com/E1XQZjy.png)\n",
    "![Imgur](http://i.imgur.com/sUEP7xp.png)\n",
    "\n",
    "If we set $\\Theta = a$, where a is a constant, then all values in the same layers will be the same.\n",
    "![Imgur](http://i.imgur.com/K54D1rN.png)\n",
    "We need use randomization to break the symmetry: randomly select one initial parameter for each input value.\n",
    "![Imgur](http://i.imgur.com/be4r4qn.png)"
   ]
  },
  {
   "cell_type": "markdown",
   "metadata": {},
   "source": [
    "###  Put it together\n",
    "![Imgur](http://i.imgur.com/JtklzmE.png)\n",
    "![Imgur](http://i.imgur.com/aBq6Vwi.png)\n",
    "![Imgur](http://i.imgur.com/LvDkMg4.png)"
   ]
  },
  {
   "cell_type": "code",
   "execution_count": null,
   "metadata": {
    "collapsed": true
   },
   "outputs": [],
   "source": []
  }
 ],
 "metadata": {
  "kernelspec": {
   "display_name": "Python 2",
   "language": "python",
   "name": "python2"
  },
  "language_info": {
   "codemirror_mode": {
    "name": "ipython",
    "version": 2
   },
   "file_extension": ".py",
   "mimetype": "text/x-python",
   "name": "python",
   "nbconvert_exporter": "python",
   "pygments_lexer": "ipython2",
   "version": "2.7.10"
  }
 },
 "nbformat": 4,
 "nbformat_minor": 0
}
