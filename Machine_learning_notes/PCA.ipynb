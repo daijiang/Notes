{
 "cells": [
  {
   "cell_type": "markdown",
   "metadata": {},
   "source": [
    "## PCA\n",
    "It is a good idea to scale data before perform PCA.\n",
    "![Imgur](http://i.imgur.com/GvgInMD.png)\n",
    "![Imgur](http://i.imgur.com/xtKbD8a.png)\n",
    "\n",
    "![Imgur](http://i.imgur.com/f6R9L7G.png)\n",
    "![Imgur](http://i.imgur.com/CHQE1uE.png)\n",
    "![Imgur](http://i.imgur.com/13UpPOj.png)\n",
    "![Imgur](http://i.imgur.com/XSbmdXS.png)\n",
    "![Imgur](http://i.imgur.com/3oREVaK.png)\n",
    "\n",
    "![Imgur](http://i.imgur.com/m7p03Wc.png)\n",
    "![Imgur](http://i.imgur.com/XUD0nEV.png)\n",
    "\n",
    "![Imgur](http://i.imgur.com/xsycTDG.png)\n",
    "![Imgur](http://i.imgur.com/bMIMcuG.png)\n",
    "![Imgur](http://i.imgur.com/VYQ7GAl.png)\n",
    "![Imgur](http://i.imgur.com/VF38d6F.png)"
   ]
  },
  {
   "cell_type": "code",
   "execution_count": null,
   "metadata": {
    "collapsed": true
   },
   "outputs": [],
   "source": []
  }
 ],
 "metadata": {
  "kernelspec": {
   "display_name": "Python 2",
   "language": "python",
   "name": "python2"
  },
  "language_info": {
   "codemirror_mode": {
    "name": "ipython",
    "version": 2
   },
   "file_extension": ".py",
   "mimetype": "text/x-python",
   "name": "python",
   "nbconvert_exporter": "python",
   "pygments_lexer": "ipython2",
   "version": "2.7.10"
  }
 },
 "nbformat": 4,
 "nbformat_minor": 0
}
