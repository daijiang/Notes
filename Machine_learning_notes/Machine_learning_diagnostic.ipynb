{
 "cells": [
  {
   "cell_type": "markdown",
   "metadata": {},
   "source": [
    "### Advices for applying machine learning\n",
    "\n",
    "If your regurlarized regression does a very poor job in predicting new dataset, what are you going to do?\n",
    "\n",
    "- get more training examples?\n",
    "- try smaller sets of features?\n",
    "- try getting additional features?\n",
    "- try adding polynomial features?\n",
    "- try decreasing $\\lambda$?\n",
    "- try increasing $\\lambda$?\n",
    "\n",
    "**Diagnostic**: a test that you can run to gain insight what is or isn't working with a learning algorithm, and gain guidance as to how best to improve its performance. Diagnostic can take time to implement, but doing so can be a very good use of your time.\n",
    "\n",
    "#### Evaluating a hypothesis\n",
    "\n",
    "Low measure error may can lead to overfitting, fails to generalize to new examples.\n",
    "\n",
    "random 70% - 30% training and test sets. Train the model then use the parameter on new test sets, then calculate errors in the test sets. \n",
    "![Imgur](http://i.imgur.com/yf8VlB7.png)\n",
    "\n",
    "Model selection\n",
    "\n",
    "60% - 20% -20% training, cross validation, and test sets. Training error, cross validation error, test error."
   ]
  },
  {
   "cell_type": "markdown",
   "metadata": {},
   "source": [
    "#### Bias and variance\n",
    "![Imgur](http://i.imgur.com/HQYFS2i.png)\n",
    "![Imgur](http://i.imgur.com/KiWEj93.png)\n",
    "![Imgur](http://i.imgur.com/nBVBSAl.png)\n",
    "\n",
    "Regularization\n",
    "![Imgur](http://i.imgur.com/LTxHVob.png)\n",
    "![Imgur](http://i.imgur.com/HrnbICu.png)\n",
    "![Imgur](http://i.imgur.com/divLp2n.png)\n",
    "![Imgur](http://i.imgur.com/WBqHUuJ.png)\n",
    "\n",
    "Learning curve\n",
    "![Imgur](http://i.imgur.com/CyaFObn.png)\n",
    "![Imgur](http://i.imgur.com/LyTnTHV.png)\n",
    "![Imgur](http://i.imgur.com/3PoSPBw.png)\n",
    "\n",
    "![Imgur](http://i.imgur.com/NvLKLF4.png)\n",
    "\n",
    "![Imgur](http://i.imgur.com/nk5eVaX.png)\n",
    "Usually, bigger neural network is better, but more computational cost and should use regularization."
   ]
  },
  {
   "cell_type": "markdown",
   "metadata": {
    "collapsed": true
   },
   "source": [
    "![Imgur](http://i.imgur.com/Chdn3AL.png)\n",
    "![Imgur](http://i.imgur.com/6dl5usz.png)\n",
    "![Imgur](http://i.imgur.com/H64GvkS.png)\n",
    "\n",
    "![Imgur](http://i.imgur.com/DxUtCvz.png)\n",
    "![Imgur](http://i.imgur.com/pqiPBm9.png)"
   ]
  },
  {
   "cell_type": "code",
   "execution_count": null,
   "metadata": {
    "collapsed": true
   },
   "outputs": [],
   "source": []
  }
 ],
 "metadata": {
  "kernelspec": {
   "display_name": "Python 2",
   "language": "python",
   "name": "python2"
  },
  "language_info": {
   "codemirror_mode": {
    "name": "ipython",
    "version": 2
   },
   "file_extension": ".py",
   "mimetype": "text/x-python",
   "name": "python",
   "nbconvert_exporter": "python",
   "pygments_lexer": "ipython2",
   "version": "2.7.10"
  }
 },
 "nbformat": 4,
 "nbformat_minor": 0
}
