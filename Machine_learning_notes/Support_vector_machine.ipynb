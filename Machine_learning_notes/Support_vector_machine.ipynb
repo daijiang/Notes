{
 "cells": [
  {
   "cell_type": "markdown",
   "metadata": {},
   "source": [
    "### Support vector machine\n",
    "\n",
    "![Imgur](http://i.imgur.com/LlyY3Bk.png)\n",
    "Doing multiplication with constants / remove m: will not change minimum values...\n",
    "![Imgur](http://i.imgur.com/WRAmYJw.png)\n",
    "![Imgur](http://i.imgur.com/Afwgk0e.png)\n",
    "\n",
    "### Large margin intuition\n",
    "![Imgur](http://i.imgur.com/J7j8lfb.png)\n",
    "![Imgur](http://i.imgur.com/nqbLkk8.png)\n",
    "![Imgur](http://i.imgur.com/NA47tBW.png)\n",
    "![Imgur](http://i.imgur.com/B3k3EqE.png)"
   ]
  },
  {
   "cell_type": "markdown",
   "metadata": {},
   "source": [
    "###Mathematics Behind Large Margin Classification\n",
    "![Imgur](http://i.imgur.com/Dvjn0mK.png)\n",
    "\n",
    "![Imgur](http://i.imgur.com/6UPQdyu.png)\n",
    "![Imgur](http://i.imgur.com/Uh2OgpZ.png)\n",
    "![Imgur](http://i.imgur.com/7VnBCGH.png)\n",
    "![Imgur](http://i.imgur.com/JVPD8Sq.png)\n",
    "\n",
    "SVM is good when use different kernels to learn **complex non-linear** functions.\n",
    "![Imgur](http://i.imgur.com/oax8evw.png)"
   ]
  },
  {
   "cell_type": "code",
   "execution_count": null,
   "metadata": {
    "collapsed": true
   },
   "outputs": [],
   "source": []
  }
 ],
 "metadata": {
  "kernelspec": {
   "display_name": "Python 2",
   "language": "python",
   "name": "python2"
  },
  "language_info": {
   "codemirror_mode": {
    "name": "ipython",
    "version": 2
   },
   "file_extension": ".py",
   "mimetype": "text/x-python",
   "name": "python",
   "nbconvert_exporter": "python",
   "pygments_lexer": "ipython2",
   "version": "2.7.10"
  }
 },
 "nbformat": 4,
 "nbformat_minor": 0
}
